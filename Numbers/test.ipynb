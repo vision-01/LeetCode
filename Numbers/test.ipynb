{
 "cells": [
  {
   "cell_type": "code",
   "execution_count": null,
   "metadata": {},
   "outputs": [],
   "source": [
    "def fibonacci(n):\n",
    "    if n <= 0:\n",
    "        return \"Input should be a positive integer\"\n",
    "    elif n == 1:\n",
    "        return 0\n",
    "    elif n == 2:\n",
    "        return 1\n",
    "    else:\n",
    "        return fibonacci(n-1) + fibonacci(n-2)\n",
    "\n",
    "# Example usage:\n",
    "n = 10\n",
    "print(f\"Fibonacci number at position {n} is {fibonacci(n)}\")"
   ]
  },
  {
   "cell_type": "code",
   "execution_count": null,
   "metadata": {},
   "outputs": [],
   "source": [
    "def fibonacci_sequence(n):\n",
    "    sequence = []\n",
    "    for i in range(1, n+1):\n",
    "        sequence.append(fibonacci(i))\n",
    "    return sequence\n",
    "\n",
    "# Example usage:\n",
    "n = 10\n",
    "print(f\"The first {n} Fibonacci numbers are: {fibonacci_sequence(n)}\")"
   ]
  },
  {
   "cell_type": "code",
   "execution_count": null,
   "metadata": {},
   "outputs": [],
   "source": [
    "import math\n",
    "\n",
    "def fibonacci_binet(n):\n",
    "    if n <= 0:\n",
    "        return \"Input should be a positive integer\"\n",
    "    phi = (1 + math.sqrt(5)) / 2\n",
    "    psi = (1 - math.sqrt(5)) / 2\n",
    "    return int((phi**n - psi**n) / math.sqrt(5))\n",
    "\n",
    "# Example usage:\n",
    "n = 10\n",
    "print(f\"Fibonacci number at position {n} using Binet's formula is {fibonacci_binet(n)}\")"
   ]
  }
 ],
 "metadata": {
  "kernelspec": {
   "display_name": "Python 3",
   "language": "python",
   "name": "python3"
  },
  "language_info": {
   "codemirror_mode": {
    "name": "ipython",
    "version": 3
   },
   "file_extension": ".py",
   "mimetype": "text/x-python",
   "name": "python",
   "nbconvert_exporter": "python",
   "pygments_lexer": "ipython3",
   "version": "3.12.2"
  }
 },
 "nbformat": 4,
 "nbformat_minor": 2
}
